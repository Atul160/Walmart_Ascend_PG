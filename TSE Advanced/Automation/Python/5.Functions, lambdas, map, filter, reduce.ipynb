{
 "cells": [
  {
   "cell_type": "markdown",
   "metadata": {},
   "source": [
    "##  Built in functions"
   ]
  },
  {
   "cell_type": "code",
   "execution_count": 2,
   "metadata": {},
   "outputs": [
    {
     "name": "stdout",
     "output_type": "stream",
     "text": [
      "w\n",
      "d\n",
      "0.3581055594425512\n",
      "0.27550036923780497\n",
      "0.627070472746718\n",
      "0.7926963904924993\n",
      "0.06074933506586255\n",
      "0.13196282312033525\n",
      "0.2828743589285079\n",
      "0.961583745914852\n",
      "0.8406754867370745\n",
      "0.40623665317666013\n",
      "Help on built-in function casefold:\n",
      "\n",
      "casefold() method of builtins.str instance\n",
      "    Return a version of the string suitable for caseless comparisons.\n",
      "\n"
     ]
    }
   ],
   "source": [
    "\n",
    "'''\n",
    "1.type\n",
    "2. max\n",
    "3. min\n",
    "4. conversion functions : int, float, str\n",
    "5. random'''\n",
    "print(max('Hello world'))\n",
    "print(min('helloworld'))\n",
    "\n",
    "import random\n",
    "\n",
    "for i in range(10):\n",
    "    x = random.random()\n",
    "    print(x)\n"
   ]
  },
  {
   "cell_type": "code",
   "execution_count": null,
   "metadata": {},
   "outputs": [],
   "source": [
    "#6. randint\n",
    "for i in range(10):\n",
    "    print(random.randint(5, 100))\n",
    "\n",
    "t = [10, 22, 453]\n",
    "random.choice(t)\n"
   ]
  },
  {
   "cell_type": "code",
   "execution_count": null,
   "metadata": {},
   "outputs": [],
   "source": [
    "#7. Math functions - pi, sin, sqrt, \n",
    "import math\n",
    "signal_power=5.6\n",
    "noise_power=3.1\n",
    "ratio = signal_power / noise_power\n",
    "\n",
    "decibels = 10 * math.log10(ratio)\n",
    "\n",
    "radians = 0.7\n",
    "    \n",
    "height = math.sin(radians)\n",
    "degrees = 45\n",
    "radians = degrees / 360.0 * 2 * math.pi\n",
    "math.sin(radians)\n",
    "math.sqrt(2) / 2.0\n",
    "\n",
    "x = math.cos(radians)\n",
    "golden = (math.sqrt(5) + 1) / 2"
   ]
  },
  {
   "cell_type": "code",
   "execution_count": null,
   "metadata": {},
   "outputs": [],
   "source": [
    "help(random.random)"
   ]
  },
  {
   "cell_type": "markdown",
   "metadata": {},
   "source": [
    "##  User Defined functions"
   ]
  },
  {
   "cell_type": "code",
   "execution_count": 3,
   "metadata": {},
   "outputs": [],
   "source": [
    "# defining void funtions\n",
    "def print_lyrics():\n",
    "    print(\"I'm a lumberjack, and I'm okay.\")\n",
    "    print('I sleep all night and I work all day.')\n",
    "\n",
    "def func2(func1):\n",
    "    print(\"hello\")"
   ]
  },
  {
   "cell_type": "code",
   "execution_count": 2,
   "metadata": {},
   "outputs": [
    {
     "name": "stdout",
     "output_type": "stream",
     "text": [
      "<class 'function'>\n",
      "I'm a lumberjack, and I'm okay.\n",
      "I sleep all night and I work all day.\n"
     ]
    }
   ],
   "source": [
    "print(type(print_lyrics))\n",
    "\n",
    "#calling the function:\n",
    "func2(print_lyrics())"
   ]
  },
  {
   "cell_type": "code",
   "execution_count": null,
   "metadata": {},
   "outputs": [],
   "source": [
    "#Functions with arguments"
   ]
  },
  {
   "cell_type": "code",
   "execution_count": 8,
   "metadata": {},
   "outputs": [],
   "source": [
    "def print_twice(a):\n",
    "    print(a)\n",
    "    print(a)"
   ]
  },
  {
   "cell_type": "code",
   "execution_count": 9,
   "metadata": {},
   "outputs": [
    {
     "name": "stdout",
     "output_type": "stream",
     "text": [
      "Spam\n",
      "Spam\n"
     ]
    }
   ],
   "source": [
    "print_twice('Spam')"
   ]
  },
  {
   "cell_type": "code",
   "execution_count": 10,
   "metadata": {},
   "outputs": [
    {
     "name": "stdout",
     "output_type": "stream",
     "text": [
      "Spam Spam Spam Spam \n",
      "Spam Spam Spam Spam \n"
     ]
    }
   ],
   "source": [
    "print_twice('Spam '*4)"
   ]
  },
  {
   "cell_type": "code",
   "execution_count": 1,
   "metadata": {},
   "outputs": [
    {
     "name": "stdout",
     "output_type": "stream",
     "text": [
      "79\n"
     ]
    }
   ],
   "source": [
    "def add2nos(a,b):\n",
    "    c = a+b\n",
    "    return c\n",
    "\n",
    "print(add2nos(45,34))"
   ]
  },
  {
   "cell_type": "code",
   "execution_count": 2,
   "metadata": {},
   "outputs": [],
   "source": [
    "#Writing userdefined functions with arguments and returning values.\n",
    "#Define a function to accept a number. if the number is negative then return 0 else return the number\n",
    "def replace_negative(val):\n",
    "    if val<0:\n",
    "        out = 0\n",
    "    else:\n",
    "        out = val\n",
    "    return out,val\n",
    "\n"
   ]
  },
  {
   "cell_type": "code",
   "execution_count": 4,
   "metadata": {},
   "outputs": [
    {
     "name": "stdout",
     "output_type": "stream",
     "text": [
      "0   1 1 2 3 5 8 13 21 34 55 89 144 233 377 610 987 1597 2584 4181 6765 10946 "
     ]
    }
   ],
   "source": [
    "#fib series: 0,1,1,2,3,5,8,13\n",
    "\n",
    "def fib(n):\n",
    "    fir = 0\n",
    "    sec = 1\n",
    "    thi = fir + sec\n",
    "    print(fir, ' ', sec, end=\" \")\n",
    "    while(thi <= n):\n",
    "        print(thi,end=\" \")\n",
    "        fir,sec = sec, thi\n",
    "        thi = fir + sec\n",
    "    \n",
    "fib(12320)"
   ]
  },
  {
   "cell_type": "code",
   "execution_count": 3,
   "metadata": {},
   "outputs": [
    {
     "name": "stdout",
     "output_type": "stream",
     "text": [
      "(0, -19)\n",
      "(100, 100)\n"
     ]
    }
   ],
   "source": [
    "# testing the above function\n",
    "a,b=replace_negative(-5)\n",
    "print(replace_negative(-19))\n",
    "print(replace_negative(100))"
   ]
  },
  {
   "cell_type": "code",
   "execution_count": 8,
   "metadata": {},
   "outputs": [
    {
     "data": {
      "text/plain": [
       "720"
      ]
     },
     "execution_count": 8,
     "metadata": {},
     "output_type": "execute_result"
    }
   ],
   "source": [
    "#n! = n*(n-1)*(n-2).....1\n",
    "#5!= 5*4*3*2*1 = 120\n",
    "\n",
    "def fact(n):\n",
    "    prod = 1\n",
    "    \n",
    "    while n > 0:\n",
    "        prod = prod * n\n",
    "        n = n -1\n",
    "    return prod\n",
    "fact(6)"
   ]
  },
  {
   "cell_type": "code",
   "execution_count": 11,
   "metadata": {},
   "outputs": [
    {
     "name": "stdout",
     "output_type": "stream",
     "text": [
      "8\n",
      "0  1 1 2 3 5 8 "
     ]
    }
   ],
   "source": [
    "# funciton for fibanocci series\n",
    "\n",
    "def gen_fib(f):\n",
    "    x=0\n",
    "    y=1\n",
    "    print(x,\"\",y, end=\" \")\n",
    "    z=x+y\n",
    "    while y < f:        \n",
    "        print(z,end=\" \")\n",
    "        x,y=y,z\n",
    "        z=x+y\n",
    "\n",
    "        \n",
    "fib=int(input())\n",
    "if(fib>1):\n",
    "    gen_fib(fib)"
   ]
  },
  {
   "cell_type": "code",
   "execution_count": 6,
   "metadata": {},
   "outputs": [
    {
     "name": "stdout",
     "output_type": "stream",
     "text": [
      "[0, 2, 0, 0, 75, 90, 80]\n"
     ]
    }
   ],
   "source": [
    "numList = [-5,2,-3,-100,75,90,80]\n",
    "for i in range(0,len(numList)):\n",
    "    numList[i]=replace_negative(numList[i])\n",
    "print(numList)"
   ]
  },
  {
   "cell_type": "code",
   "execution_count": 7,
   "metadata": {},
   "outputs": [
    {
     "data": {
      "text/plain": [
       "[0, 2, 0, 0, 75, 90, 80]"
      ]
     },
     "execution_count": 7,
     "metadata": {},
     "output_type": "execute_result"
    }
   ],
   "source": [
    "[replace_negative(i) for i in numList]"
   ]
  },
  {
   "cell_type": "code",
   "execution_count": 18,
   "metadata": {},
   "outputs": [
    {
     "name": "stdout",
     "output_type": "stream",
     "text": [
      "120\n"
     ]
    },
    {
     "data": {
      "text/plain": [
       "5040"
      ]
     },
     "execution_count": 18,
     "metadata": {},
     "output_type": "execute_result"
    }
   ],
   "source": [
    "#Factorial of a number using default arguments\n",
    "def factorial(num=5):\n",
    "    count = 1\n",
    "    fact=1\n",
    "    while count <=num:\n",
    "        fact = count*fact\n",
    "        count = count+1\n",
    "    return(fact)\n",
    "print(factorial())\n",
    "factorial(7)\n",
    "\n",
    "\n",
    "\n",
    "\n",
    "\n",
    "\n",
    "\n",
    "\n",
    "\n",
    "\n"
   ]
  },
  {
   "cell_type": "code",
   "execution_count": 14,
   "metadata": {},
   "outputs": [
    {
     "name": "stdout",
     "output_type": "stream",
     "text": [
      "enter your number to find factoral:6\n",
      "Factorial of number 6 is 6\n"
     ]
    }
   ],
   "source": []
  },
  {
   "cell_type": "code",
   "execution_count": 20,
   "metadata": {},
   "outputs": [],
   "source": [
    "def is_prime(number):\n",
    "    count = 2\n",
    "    isPrime = True #The number is assumed to be prime\n",
    "    if(number > 1):\n",
    "        half=number//2\n",
    "\n",
    "        for count in range(2,half+1):\n",
    "            if number % count == 0:\n",
    "                isPrime = False #the number is not prime\n",
    "                break\n",
    "    else:\n",
    "        isPrime = False\n",
    "\n",
    "    return isPrime"
   ]
  },
  {
   "cell_type": "code",
   "execution_count": null,
   "metadata": {},
   "outputs": [],
   "source": [
    "if (isPrime(3)) : print(\"number is prime\") \n",
    "else : print(\"number is not prime\")"
   ]
  },
  {
   "cell_type": "code",
   "execution_count": 21,
   "metadata": {},
   "outputs": [
    {
     "name": "stdout",
     "output_type": "stream",
     "text": [
      "2 3 5 7 11 13 17 19 23 29 "
     ]
    }
   ],
   "source": [
    "num=30\n",
    "def print_Prime(num):\n",
    "    for i in range(num):\n",
    "        if(is_prime(i)):\n",
    "            print(i,end=\" \")\n",
    "print_Prime(num)"
   ]
  },
  {
   "cell_type": "code",
   "execution_count": 23,
   "metadata": {},
   "outputs": [
    {
     "name": "stdout",
     "output_type": "stream",
     "text": [
      "enter the starting range3\n",
      "enter the ending range5\n",
      "3 5 "
     ]
    }
   ],
   "source": [
    "start = int(input(\"enter the starting range\"))\n",
    "end   = int(input(\"enter the ending range\"))\n",
    "\n",
    "for i in range(start,end+1):\n",
    "    if(is_prime(i)):\n",
    "        print(i,end=\" \")\n",
    "    "
   ]
  },
  {
   "cell_type": "code",
   "execution_count": 26,
   "metadata": {},
   "outputs": [
    {
     "name": "stdout",
     "output_type": "stream",
     "text": [
      "[5, 89, 23]\n"
     ]
    }
   ],
   "source": [
    "l1=[5,6,4,89,34,56,23,21]\n",
    "l2=[i for i in l1 if(is_prime(i))]\n",
    "print(l2)"
   ]
  },
  {
   "cell_type": "code",
   "execution_count": null,
   "metadata": {},
   "outputs": [],
   "source": [
    "num=int(input())\n",
    "print_Prime(num)"
   ]
  },
  {
   "cell_type": "code",
   "execution_count": null,
   "metadata": {},
   "outputs": [],
   "source": [
    "#Printing the next 5 prime numbers\n",
    "number = int(input(\"enter a number : \"))\n",
    "numPrime = 1\n",
    "while numPrime <= 5:\n",
    "    number = number+1\n",
    "    if(is_prime(number) == True):\n",
    "        print(number)\n",
    "        numPrime = numPrime+1"
   ]
  },
  {
   "cell_type": "code",
   "execution_count": null,
   "metadata": {},
   "outputs": [],
   "source": [
    "#display all the prime numbers within a given range\n",
    "start = int(input(\"enter a start number\"))\n",
    "end = int(input(\"enter a end number\"))\n",
    "for number in range(start, end+1):\n",
    "    if(is_prime(number)==True):\n",
    "        print(number)"
   ]
  },
  {
   "cell_type": "code",
   "execution_count": null,
   "metadata": {},
   "outputs": [],
   "source": [
    "start = int(input(\"enter the starting range\"))\n",
    "end   = int(input(\"enter the ending range\"))\n",
    "[ number for number in range(start, end+1) if(is_prime(number)==True) ]"
   ]
  },
  {
   "cell_type": "code",
   "execution_count": null,
   "metadata": {},
   "outputs": [],
   "source": [
    "#another way to interchange elements\n",
    "a=10\n",
    "b=20\n",
    "print(id(a),\"  \",id(b))\n",
    "temp=a\n",
    "a=b\n",
    "b=temp\n",
    "print(a,b)\n",
    "print(id(a),\"  \",id(b))"
   ]
  },
  {
   "cell_type": "code",
   "execution_count": null,
   "metadata": {},
   "outputs": [],
   "source": [
    "#interchange elements; swapping the values\n",
    "#The id is the object's memory address; some objects have predefined ids like integers -5 to 256\n",
    "a='car'\n",
    "b='bus'\n",
    "print(a,b)\n",
    "print(id(a),\"  \",id(b))\n",
    "(a,b) = (b,a)\n",
    "print(a,b)\n",
    "print(id(a),\"  \",id(b))"
   ]
  },
  {
   "cell_type": "code",
   "execution_count": 8,
   "metadata": {},
   "outputs": [
    {
     "name": "stdout",
     "output_type": "stream",
     "text": [
      "[0, 1, 2, 3, 4, 5, 6, 7, 8, 9]\n",
      "[0, 1, 4, 9, 16, 25, 36, 49, 64, 81]\n"
     ]
    }
   ],
   "source": [
    "#list and functions can be passed to other functions as functions to have a id just like a variable. \n",
    "# a variable has value whereas function has code\n",
    "\n",
    "#Enumerate() method adds a counter to an iterable and returns it in a form of enumerate object. \n",
    "\n",
    "def square(no):\n",
    "    return no*no\n",
    "def listmap(l,fn):\n",
    "    for ind,i in enumerate(l):\n",
    "        l[ind] = fn(i)\n",
    "        \n",
    "l=list(range(10))\n",
    "print(l)\n",
    "listmap(l,square)\n",
    "print(l)\n",
    "        "
   ]
  },
  {
   "cell_type": "code",
   "execution_count": null,
   "metadata": {},
   "outputs": [],
   "source": [
    "string=\"Bangalore\"\n",
    "for i in range(len(string)):\n",
    "    print(i,string[i])"
   ]
  },
  {
   "cell_type": "code",
   "execution_count": null,
   "metadata": {},
   "outputs": [],
   "source": [
    "#Finding the min, max and the median of the elements\n",
    "mylist  = [ 10,20,30,5,-3,1,33]\n",
    "myList = SelectionSort(mylist)\n",
    "minList = myList[0]\n",
    "maxList = myList[len(myList)-1]\n",
    "if len(myList)%2 !=0 :\n",
    "    medianList = myList[(len(myList)//2)]\n",
    "else:\n",
    "    medianList = (myList[(len(myList)//2)] + myList[(len(myList)//2)-1])/2\n",
    "print(myList)\n",
    "print(minList)\n",
    "print(maxList)\n",
    "print(medianList)"
   ]
  },
  {
   "cell_type": "code",
   "execution_count": null,
   "metadata": {},
   "outputs": [],
   "source": [
    "#sorting using selection sort algortithm\n",
    "'''\n",
    "1. From the first element to the end of the list repeat the following steps\n",
    "   1a. First element is considered as minumim\n",
    "   1b. Check the first element with the remaining elements\n",
    "   1c. if you find any other element much lesser than the first element\n",
    "   1d. reassign minimum to that element\n",
    "2. interchange the first element with the minimum\n",
    "'''\n",
    "def SelectionSort(myList):\n",
    "    #From the first element to the end of the list\n",
    "    #repeat the following steps\n",
    "    for i in range(0,len(myList)):\n",
    "      #  First element is considered as minumim\n",
    "        minimum = i\n",
    "        #loop check the first elements with the remaining elements\n",
    "        for j in range(i+1,len(myList)):\n",
    "            #checking if other element is much lesser than the minimum\n",
    "            if myList[j] < myList[minimum]:\n",
    "                #reassigning minimum\n",
    "                minimum = j\n",
    "        #interchange the elements\n",
    "        myList[i],myList[minimum] = myList[minimum], myList[i]            \n",
    "    return(myList)"
   ]
  },
  {
   "cell_type": "markdown",
   "metadata": {},
   "source": [
    "### Lambdas, map, filter and reduce\n",
    "- We can use lambdas, map to replicate the functionality of list comprehension\n",
    "A way to create small anonymous functions, i.e. functions without a name. \n",
    "\n",
    "These functions are throw-away functions, i.e. they are just needed where they have been created\n",
    "~lambda arguments:expression~\n",
    "lambda can accept 0 or more arguments but only one expression\n",
    "\n",
    "Mainly used in combination with the functions filter(), map() and reduce()\n",
    "\n",
    "Was added to Python due to the demand from Lisp programmers\n",
    "\n",
    "Functions which are not defined explicitly with a name are lambda functions\n"
   ]
  },
  {
   "cell_type": "code",
   "execution_count": 27,
   "metadata": {},
   "outputs": [
    {
     "name": "stdout",
     "output_type": "stream",
     "text": [
      "<class 'function'>\n"
     ]
    },
    {
     "data": {
      "text/plain": [
       "7"
      ]
     },
     "execution_count": 27,
     "metadata": {},
     "output_type": "execute_result"
    }
   ],
   "source": [
    "#Define a lambda function:\n",
    "sum = lambda x, y : x + y\n",
    "print(type(sum))\n",
    "#invoke a lambda function:\n",
    "sum(3,4)"
   ]
  },
  {
   "cell_type": "code",
   "execution_count": 28,
   "metadata": {},
   "outputs": [
    {
     "name": "stdout",
     "output_type": "stream",
     "text": [
      "25\n"
     ]
    }
   ],
   "source": [
    "#write a lambda to find the square of a given number\n",
    "sq = lambda x :x**2\n",
    "print(sq(5))"
   ]
  },
  {
   "cell_type": "code",
   "execution_count": 10,
   "metadata": {},
   "outputs": [
    {
     "name": "stdout",
     "output_type": "stream",
     "text": [
      "25\n"
     ]
    }
   ],
   "source": [
    "squar = lambda x:x*x\n",
    "print(squar(5))\n",
    "i=4"
   ]
  },
  {
   "cell_type": "code",
   "execution_count": null,
   "metadata": {},
   "outputs": [],
   "source": [
    "What is map()\n",
    "l1=[10,23,35,78,98]\n",
    "divide every ele by 2\n",
    "def divby2(n):\n",
    "    return n/2\n",
    "\n",
    "list(map(divby2,l1))\n",
    "[5,11.5,17.5]\n",
    "\n",
    "map(func,seq) : apply the func on every element of the sequence\n",
    "    \n",
    "\n"
   ]
  },
  {
   "cell_type": "code",
   "execution_count": 30,
   "metadata": {},
   "outputs": [
    {
     "name": "stdout",
     "output_type": "stream",
     "text": [
      "94.1\n"
     ]
    }
   ],
   "source": [
    "#map(function,sequence)-to apply some operations effectively on lists without loops and list comprehension\n",
    "#f=9/5*C+32\n",
    "\n",
    "def fahrenheit(T):\n",
    "    f=round(((float(9)/5)*T + 32),2)\n",
    "    return f\n",
    "\n",
    "print(fahrenheit(34.5))"
   ]
  },
  {
   "cell_type": "code",
   "execution_count": 15,
   "metadata": {},
   "outputs": [
    {
     "name": "stdout",
     "output_type": "stream",
     "text": [
      "[97.7, 98.6, 99.5, 100.4, 102.2]\n"
     ]
    }
   ],
   "source": [
    "def fahrenheit(T):\n",
    "    f=round(((float(9)/5)*T + 32),2)\n",
    "    return f\n",
    " \n",
    "temperatures = [36.5, 37, 37.5, 38, 39]\n",
    "\n",
    "F = map(fahrenheit, temperatures)\n",
    "\n",
    "print(list(F))"
   ]
  },
  {
   "cell_type": "code",
   "execution_count": null,
   "metadata": {},
   "outputs": [],
   "source": [
    "1.write the above code using list comprehension\n",
    "2. write the above code using lambda"
   ]
  },
  {
   "cell_type": "code",
   "execution_count": 8,
   "metadata": {},
   "outputs": [
    {
     "name": "stdout",
     "output_type": "stream",
     "text": [
      "[97.7, 98.6, 99.5, 100.4, 102.2]\n"
     ]
    }
   ],
   "source": [
    "temperatures = [36.5, 37, 37.5, 38, 39]\n",
    "F=[ round(((float(9)/5)*temp + 32),2) for temp in temperatures]\n",
    "print(F)"
   ]
  },
  {
   "cell_type": "code",
   "execution_count": 32,
   "metadata": {},
   "outputs": [
    {
     "name": "stdout",
     "output_type": "stream",
     "text": [
      "[97.7, 98.6, 99.5, 100.4, 102.2]\n"
     ]
    }
   ],
   "source": [
    "temperatures = [36.5, 37, 37.5, 38, 39]\n",
    "F = map(lambda T: round(((float(9)/5)*T + 32),2), temperatures)\n",
    "print(list(F))"
   ]
  },
  {
   "cell_type": "code",
   "execution_count": null,
   "metadata": {},
   "outputs": [],
   "source": []
  },
  {
   "cell_type": "code",
   "execution_count": 19,
   "metadata": {},
   "outputs": [
    {
     "name": "stdout",
     "output_type": "stream",
     "text": [
      "<map object at 0x052E9E08>\n",
      "[4, 16, 36, 64, 100]\n"
     ]
    }
   ],
   "source": [
    "#find the square of every list element using map and lambda\n",
    "nums = [2, 4, 6, 8, 10]\n",
    "result = map(lambda a: a ** 2, nums)\n",
    "print(result)\n",
    "print(list(result))"
   ]
  },
  {
   "cell_type": "code",
   "execution_count": 20,
   "metadata": {},
   "outputs": [
    {
     "data": {
      "text/plain": [
       "[4, 16, 36, 64, 100]"
      ]
     },
     "execution_count": 20,
     "metadata": {},
     "output_type": "execute_result"
    }
   ],
   "source": [
    "#find the square of every list element using list comprehension\n",
    "[  a**2  for a in nums]"
   ]
  },
  {
   "cell_type": "code",
   "execution_count": 16,
   "metadata": {},
   "outputs": [
    {
     "name": "stdout",
     "output_type": "stream",
     "text": [
      "[2, 6, 8, 10]\n"
     ]
    }
   ],
   "source": [
    "#extract only even numbers from a list using filter(function,sequence)\n",
    "lst = [2,3,5,6,8,7,9,10]\n",
    "result = filter(lambda i: i%2==0, lst)\n",
    "print(list(result))\n",
    "\n",
    "\n",
    "\n",
    "\n",
    "\n"
   ]
  },
  {
   "cell_type": "code",
   "execution_count": 12,
   "metadata": {},
   "outputs": [],
   "source": [
    "#program using map/filer and lambda\n",
    "#find the length of the element if the element starts with 'A' else display the first letter in caps\n",
    "words=['Apple','Banana','Ant','Aeroplane','anger']\n"
   ]
  },
  {
   "cell_type": "code",
   "execution_count": 13,
   "metadata": {},
   "outputs": [
    {
     "name": "stdout",
     "output_type": "stream",
     "text": [
      "[5, 'B', 3, 9, 'A']\n"
     ]
    }
   ],
   "source": [
    "#solution\n",
    "\n",
    "res=map(lambda x:len(x) if x.startswith('A') else x[0].upper(),words)\n",
    "print(list(res))\n",
    "\n",
    "\n",
    "\n",
    "\n",
    "\n",
    "\n",
    "\n",
    "\n"
   ]
  },
  {
   "cell_type": "code",
   "execution_count": 17,
   "metadata": {},
   "outputs": [],
   "source": [
    "#program using map/filer and lambda\n",
    "#display only those elements with length >4\n",
    "words=['Apple','Banana','Ant','Aeroplane','anger']"
   ]
  },
  {
   "cell_type": "code",
   "execution_count": 18,
   "metadata": {},
   "outputs": [
    {
     "name": "stdout",
     "output_type": "stream",
     "text": [
      "['Apple', 'Banana', 'Aeroplane', 'anger']\n"
     ]
    }
   ],
   "source": [
    "#solution\n",
    "\n",
    "\n",
    "res=filter(lambda x:len(x)>4,words)\n",
    "print(list(res))"
   ]
  },
  {
   "cell_type": "code",
   "execution_count": null,
   "metadata": {},
   "outputs": [],
   "source": [
    "#program using map/filer and lambda\n",
    "#create a list of those positive integers to whom when 3 is added gives a no less than 10\n"
   ]
  },
  {
   "cell_type": "code",
   "execution_count": null,
   "metadata": {},
   "outputs": [],
   "source": [
    "\n",
    "res=list(filter(lambda x:x+3<10,range(10)))\n",
    "print(res)"
   ]
  },
  {
   "cell_type": "code",
   "execution_count": null,
   "metadata": {},
   "outputs": [],
   "source": [
    "result = [i for i in lst if i%2 ==0]\n",
    "print(result)"
   ]
  },
  {
   "cell_type": "code",
   "execution_count": 37,
   "metadata": {},
   "outputs": [
    {
     "data": {
      "text/plain": [
       "[53, 59, 61, 67, 71, 73, 79, 83, 89, 97]"
      ]
     },
     "execution_count": 37,
     "metadata": {},
     "output_type": "execute_result"
    }
   ],
   "source": [
    "list(filter(is_prime,range(50,100)))"
   ]
  },
  {
   "cell_type": "code",
   "execution_count": null,
   "metadata": {},
   "outputs": [],
   "source": [
    "num = [5,4,7,9,12,15,22,75,100,107]"
   ]
  },
  {
   "cell_type": "code",
   "execution_count": null,
   "metadata": {},
   "outputs": [],
   "source": [
    "list(filter(isPrime,lst))"
   ]
  },
  {
   "cell_type": "code",
   "execution_count": null,
   "metadata": {},
   "outputs": [],
   "source": [
    "#Assignment"
   ]
  },
  {
   "cell_type": "code",
   "execution_count": 2,
   "metadata": {},
   "outputs": [],
   "source": [
    "# 1. Form a list by dividing every element by 2\n",
    "\n",
    "num = [5,4,7,9,12,15,22,75,100,107]\n",
    "\n",
    "\n",
    "\n",
    "\n",
    "\n",
    "\n",
    "\n",
    "\n",
    "\n",
    "\n",
    "\n",
    "\n",
    "\n",
    "\n"
   ]
  },
  {
   "cell_type": "code",
   "execution_count": 4,
   "metadata": {},
   "outputs": [
    {
     "name": "stdout",
     "output_type": "stream",
     "text": [
      "[2.5, 2.0, 3.5, 4.5, 6.0, 7.5, 11.0, 37.5, 50.0, 53.5]\n"
     ]
    },
    {
     "data": {
      "text/plain": [
       "[2.5, 2.0, 3.5, 4.5, 6.0, 7.5, 11.0, 37.5, 50.0, 53.5]"
      ]
     },
     "execution_count": 4,
     "metadata": {},
     "output_type": "execute_result"
    }
   ],
   "source": [
    "print([x/2 for x in num])\n",
    "list(map(lambda x:x/2,num))"
   ]
  },
  {
   "cell_type": "code",
   "execution_count": null,
   "metadata": {},
   "outputs": [],
   "source": [
    "# 2. Form a list for all elements divisible by 5 "
   ]
  },
  {
   "cell_type": "code",
   "execution_count": null,
   "metadata": {},
   "outputs": [],
   "source": [
    "list(filter(lambda x: x%5==0,num))"
   ]
  },
  {
   "cell_type": "code",
   "execution_count": null,
   "metadata": {},
   "outputs": [],
   "source": [
    "#3. Form a  a list of all elements such that dividing even \n",
    "# numbers by 2 and odd numbers by 3"
   ]
  },
  {
   "cell_type": "code",
   "execution_count": 12,
   "metadata": {},
   "outputs": [
    {
     "ename": "NameError",
     "evalue": "name 'num' is not defined",
     "output_type": "error",
     "traceback": [
      "\u001b[1;31m-------------------------------------------------\u001b[0m",
      "\u001b[1;31mNameError\u001b[0m       Traceback (most recent call last)",
      "\u001b[1;32m<ipython-input-12-a970cd6e8556>\u001b[0m in \u001b[0;36m<module>\u001b[1;34m\u001b[0m\n\u001b[1;32m----> 1\u001b[1;33m \u001b[0mlist\u001b[0m\u001b[1;33m(\u001b[0m\u001b[0mmap\u001b[0m\u001b[1;33m(\u001b[0m\u001b[1;32mlambda\u001b[0m \u001b[0mx\u001b[0m\u001b[1;33m:\u001b[0m \u001b[0mround\u001b[0m\u001b[1;33m(\u001b[0m\u001b[0mx\u001b[0m\u001b[1;33m/\u001b[0m\u001b[1;36m2\u001b[0m\u001b[1;33m,\u001b[0m\u001b[1;36m2\u001b[0m\u001b[1;33m)\u001b[0m \u001b[1;32mif\u001b[0m \u001b[0mx\u001b[0m\u001b[1;33m%\u001b[0m\u001b[1;36m2\u001b[0m\u001b[1;33m==\u001b[0m\u001b[1;36m0\u001b[0m \u001b[1;32melse\u001b[0m \u001b[0mround\u001b[0m\u001b[1;33m(\u001b[0m\u001b[0mx\u001b[0m\u001b[1;33m/\u001b[0m\u001b[1;36m3\u001b[0m\u001b[1;33m,\u001b[0m\u001b[1;36m2\u001b[0m\u001b[1;33m)\u001b[0m\u001b[1;33m,\u001b[0m\u001b[0mnum\u001b[0m\u001b[1;33m)\u001b[0m\u001b[1;33m)\u001b[0m\u001b[1;33m\u001b[0m\u001b[1;33m\u001b[0m\u001b[0m\n\u001b[0m",
      "\u001b[1;31mNameError\u001b[0m: name 'num' is not defined"
     ]
    }
   ],
   "source": [
    "list(map(lambda x: round(x/2,2) if x%2==0 else round(x/3,2),num))"
   ]
  },
  {
   "cell_type": "code",
   "execution_count": null,
   "metadata": {},
   "outputs": [],
   "source": [
    "#4. For a list of all even numbers(only) by multiplying by itself"
   ]
  },
  {
   "cell_type": "code",
   "execution_count": null,
   "metadata": {},
   "outputs": [],
   "source": [
    "FilteredList = list(filter(lambda x:x%2==0,num))\n",
    "list(map(lambda x:x*x,FilteredList))"
   ]
  },
  {
   "cell_type": "code",
   "execution_count": null,
   "metadata": {},
   "outputs": [],
   "source": [
    "#5. For all 3 digit number divide the numebr by 2"
   ]
  },
  {
   "cell_type": "code",
   "execution_count": 40,
   "metadata": {},
   "outputs": [
    {
     "name": "stdout",
     "output_type": "stream",
     "text": [
      "[554, 456, 123]\n"
     ]
    },
    {
     "data": {
      "text/plain": [
       "[277.0, 228.0, 61.5]"
      ]
     },
     "execution_count": 40,
     "metadata": {},
     "output_type": "execute_result"
    }
   ],
   "source": [
    "num=[12,554,2,456,23,123]\n",
    "ThreeDigitNum = list(filter(lambda x: len(str(x))==3,num))\n",
    "print(ThreeDigitNum)\n",
    "list(map(lambda x: round(x/2,2),ThreeDigitNum))"
   ]
  },
  {
   "cell_type": "markdown",
   "metadata": {},
   "source": [
    "# Some more examples on map and filter"
   ]
  },
  {
   "cell_type": "code",
   "execution_count": null,
   "metadata": {},
   "outputs": [],
   "source": [
    "## Convert a list of temperatures in celsius scale to fahrenheit\n",
    "temperatures = [36.5, 37, 37.5, 38, 39]\n",
    "[  round(((float(9)/5)*interVar + 32),2) for interVar in temperatures ]"
   ]
  },
  {
   "cell_type": "code",
   "execution_count": null,
   "metadata": {},
   "outputs": [],
   "source": [
    "temperatures = [36.5, 37, 37.5, 38, 39]\n",
    "F = map(lambda T: round(((float(9)/5)*T + 32),2), temperatures)\n",
    "print(list(F))"
   ]
  },
  {
   "cell_type": "code",
   "execution_count": 48,
   "metadata": {},
   "outputs": [
    {
     "name": "stdout",
     "output_type": "stream",
     "text": [
      "[16.528925619834713, 19.031141868512112, 27.055150884495315, 23.456790123456788]\n"
     ]
    }
   ],
   "source": [
    "### Lambdas, map\n",
    "mass=[45,55,65,76]\n",
    "ht=[1.65,1.70,1.55,1.80]\n",
    "#to find x/y**2 on all the elements\n",
    "bmi=map(lambda x,y:x/y**2,mass,ht)\n",
    "print(list(bmi))"
   ]
  },
  {
   "cell_type": "code",
   "execution_count": null,
   "metadata": {},
   "outputs": [],
   "source": [
    "bmi_f=filter(lambda x:x<20,list(bmi))\n",
    "print(list(bmi_f))"
   ]
  },
  {
   "cell_type": "code",
   "execution_count": null,
   "metadata": {
    "scrolled": true
   },
   "outputs": [],
   "source": [
    "# Filter\n",
    "Cities = ['Delhi', 'Pune', 'Chennai', 'Kolkata']\n",
    "\n",
    "# Use filter() to apply a lambda function over fellowship: result\n",
    "result = filter(lambda m: len(m) > 6, Cities)\n",
    "\n",
    "print(type(result))\n",
    "# Convert result to a list: result_list\n",
    "result_list = list(result)\n",
    "\n",
    "# Convert result into a list and print it\n",
    "print(result_list)\n"
   ]
  },
  {
   "cell_type": "code",
   "execution_count": 27,
   "metadata": {},
   "outputs": [
    {
     "name": "stdout",
     "output_type": "stream",
     "text": [
      "[5, 'B', 3, 9, 'A', 'C', 'Z']\n"
     ]
    }
   ],
   "source": [
    "words=['Apple','Banana','Ant','Aeroplane','anger',\"Camel\",\"Zebra\"]\n",
    "result=map(lambda i: len(i) if  i[0]=='A' else i[:1].upper(), words)\n",
    "print(list(result))"
   ]
  },
  {
   "cell_type": "markdown",
   "metadata": {},
   "source": [
    "## Reduce function - Takes a pair of elements and returns a single element which is put back to the list"
   ]
  },
  {
   "cell_type": "code",
   "execution_count": 1,
   "metadata": {},
   "outputs": [
    {
     "name": "stdout",
     "output_type": "stream",
     "text": [
      "150\n"
     ]
    },
    {
     "data": {
      "text/plain": [
       "'[30,30,40,50]\\n[60,40,50]\\n[100,50]\\n[150]'"
      ]
     },
     "execution_count": 1,
     "metadata": {},
     "output_type": "execute_result"
    }
   ],
   "source": [
    "from functools import reduce\n",
    "lst = [10,20,30,40,50]\n",
    "print(reduce(lambda x, y: x+y, lst))\n",
    "\n",
    "'''[30,30,40,50]\n",
    "[60,40,50]\n",
    "[100,50]\n",
    "[150]'''\n",
    "\n"
   ]
  },
  {
   "cell_type": "code",
   "execution_count": 5,
   "metadata": {},
   "outputs": [
    {
     "data": {
      "text/plain": [
       "47"
      ]
     },
     "execution_count": 5,
     "metadata": {},
     "output_type": "execute_result"
    }
   ],
   "source": [
    "from functools import reduce\n",
    "reduce(lambda a,b: a if (a > b) else b, [47,11,42,42,13])"
   ]
  },
  {
   "cell_type": "markdown",
   "metadata": {},
   "source": [
    "#### this is my notes"
   ]
  },
  {
   "cell_type": "code",
   "execution_count": null,
   "metadata": {},
   "outputs": [],
   "source": [
    "'''\n",
    "[47,11,42,102,13]\n",
    "[11,42,102,13]\n",
    "[11,102,13]\n",
    "[11,13]\n",
    "11\n",
    "'''"
   ]
  },
  {
   "cell_type": "code",
   "execution_count": null,
   "metadata": {},
   "outputs": [],
   "source": [
    "#Selection sort using reduce"
   ]
  },
  {
   "cell_type": "code",
   "execution_count": null,
   "metadata": {},
   "outputs": [],
   "source": [
    "lst = [47,11,42,42,13]\n",
    "lst1 = []\n",
    "length = len(lst)\n",
    "for i in range(0,length):\n",
    "    small=reduce(lambda a,b: a if (a < b) else b, lst)\n",
    "    small in lst\n",
    "    lst1.append(small)\n",
    "    #lst = list(filter(lambda a: a!= small, lst))\n",
    "    lst.remove(small)\n",
    "print(lst1) "
   ]
  },
  {
   "cell_type": "code",
   "execution_count": 46,
   "metadata": {},
   "outputs": [
    {
     "name": "stdout",
     "output_type": "stream",
     "text": [
      "1\n",
      "2\n",
      "3\n",
      "4\n",
      "5\n"
     ]
    },
    {
     "data": {
      "text/plain": [
       "120"
      ]
     },
     "execution_count": 46,
     "metadata": {},
     "output_type": "execute_result"
    }
   ],
   "source": [
    "#Reduce to multiply the elements of a list\n",
    "for i in range(1,6):\n",
    "    print(i)\n",
    "reduce(lambda a,b : a*b, range(1,6))"
   ]
  },
  {
   "cell_type": "code",
   "execution_count": null,
   "metadata": {},
   "outputs": [],
   "source": [
    "numList = [10,100,300,40,50,60,60,60,60,65,65,75,55,54,67]\n",
    "numerator = 0\n",
    "i=0\n",
    "while i <15:\n",
    "    numerator = numerator + (numList[i]-Mean)**2\n",
    "    i = i + 1\n",
    "variance = numerator/15\n",
    "variance"
   ]
  },
  {
   "cell_type": "code",
   "execution_count": null,
   "metadata": {},
   "outputs": [],
   "source": [
    "numList = [10,100,300,40,50,60,60,60,60,65,65,75,55,54,67]\n",
    "count = len(numList)\n",
    "Mean = (reduce(lambda a,b:a+b, numList))/count\n",
    "print(Mean)\n",
    "\n",
    "#sigma((x-mean(x))**2)/no of elements\n",
    "meanSquare = list(map(lambda a: round((a-Mean)**2,2),numList))\n",
    "print(meanSquare)\n",
    "Variance = round((reduce(lambda a,b:a+b,meanSquare))/count,2)\n",
    "print(Variance)"
   ]
  },
  {
   "cell_type": "code",
   "execution_count": 43,
   "metadata": {},
   "outputs": [
    {
     "name": "stdout",
     "output_type": "stream",
     "text": [
      "[18, 14, 14, 14]\n",
      "[17, 10, 19, 23]\n",
      "[19, 18, 9, 5]\n"
     ]
    }
   ],
   "source": [
    "a = [1,2,3,4]\n",
    "b = [17,12,11,10]\n",
    "c = [-1,-4,5,9]\n",
    "print(list(map(lambda x,y: x+y,a,b)))\n",
    "print(list(map(lambda x,y,z:x+y+z, a,b,c)))\n",
    "print(list(map(lambda x,y,z:x+y-z, a,b,c)))"
   ]
  },
  {
   "cell_type": "code",
   "execution_count": null,
   "metadata": {},
   "outputs": [],
   "source": [
    "print(reduce(lambda x,y:x*y,range(1,int(input())+1)))"
   ]
  },
  {
   "cell_type": "code",
   "execution_count": 26,
   "metadata": {},
   "outputs": [
    {
     "ename": "NameError",
     "evalue": "name 'reduce' is not defined",
     "output_type": "error",
     "traceback": [
      "\u001b[1;31m---------------------------------------------------------------------------\u001b[0m",
      "\u001b[1;31mNameError\u001b[0m                                 Traceback (most recent call last)",
      "\u001b[1;32m<ipython-input-26-7c29dc0f77e6>\u001b[0m in \u001b[0;36m<module>\u001b[1;34m\u001b[0m\n\u001b[1;32m----> 1\u001b[1;33m \u001b[0ma\u001b[0m \u001b[1;33m=\u001b[0m \u001b[0mreduce\u001b[0m\u001b[1;33m(\u001b[0m\u001b[1;32mlambda\u001b[0m \u001b[0mx\u001b[0m\u001b[1;33m,\u001b[0m\u001b[0my\u001b[0m\u001b[1;33m:\u001b[0m \u001b[0mx\u001b[0m\u001b[1;33m*\u001b[0m\u001b[0my\u001b[0m\u001b[1;33m,\u001b[0m \u001b[0mrange\u001b[0m\u001b[1;33m(\u001b[0m\u001b[1;36m1\u001b[0m\u001b[1;33m,\u001b[0m\u001b[1;36m1001\u001b[0m\u001b[1;33m)\u001b[0m\u001b[1;33m)\u001b[0m\u001b[1;33m\u001b[0m\u001b[1;33m\u001b[0m\u001b[0m\n\u001b[0m\u001b[0;32m      2\u001b[0m \u001b[0mb\u001b[0m\u001b[1;33m=\u001b[0m \u001b[0mreduce\u001b[0m\u001b[1;33m(\u001b[0m\u001b[1;32mlambda\u001b[0m \u001b[0mx\u001b[0m\u001b[1;33m,\u001b[0m\u001b[0my\u001b[0m\u001b[1;33m:\u001b[0m \u001b[0mx\u001b[0m\u001b[1;33m*\u001b[0m\u001b[0my\u001b[0m\u001b[1;33m,\u001b[0m \u001b[0mrange\u001b[0m\u001b[1;33m(\u001b[0m\u001b[1;36m1\u001b[0m\u001b[1;33m,\u001b[0m\u001b[1;36m801\u001b[0m\u001b[1;33m)\u001b[0m\u001b[1;33m)\u001b[0m\u001b[1;33m\u001b[0m\u001b[1;33m\u001b[0m\u001b[0m\n\u001b[0;32m      3\u001b[0m \u001b[0mc\u001b[0m\u001b[1;33m=\u001b[0m \u001b[0mreduce\u001b[0m\u001b[1;33m(\u001b[0m\u001b[1;32mlambda\u001b[0m \u001b[0mx\u001b[0m\u001b[1;33m,\u001b[0m\u001b[0my\u001b[0m\u001b[1;33m:\u001b[0m \u001b[0mx\u001b[0m\u001b[1;33m*\u001b[0m\u001b[0my\u001b[0m\u001b[1;33m,\u001b[0m \u001b[0mrange\u001b[0m\u001b[1;33m(\u001b[0m\u001b[1;36m1\u001b[0m\u001b[1;33m,\u001b[0m\u001b[1;36m201\u001b[0m\u001b[1;33m)\u001b[0m\u001b[1;33m)\u001b[0m\u001b[1;33m\u001b[0m\u001b[1;33m\u001b[0m\u001b[0m\n\u001b[0;32m      4\u001b[0m \u001b[0ma\u001b[0m\u001b[1;33m//\u001b[0m\u001b[1;33m(\u001b[0m\u001b[0mb\u001b[0m\u001b[1;33m*\u001b[0m\u001b[0mc\u001b[0m\u001b[1;33m)\u001b[0m\u001b[1;33m\u001b[0m\u001b[1;33m\u001b[0m\u001b[0m\n",
      "\u001b[1;31mNameError\u001b[0m: name 'reduce' is not defined"
     ]
    }
   ],
   "source": [
    "a = reduce(lambda x,y: x*y, range(1,1001))\n",
    "b= reduce(lambda x,y: x*y, range(1,801))\n",
    "c= reduce(lambda x,y: x*y, range(1,201))\n",
    "a//(b*c)"
   ]
  }
 ],
 "metadata": {
  "kernelspec": {
   "display_name": "Python 3",
   "language": "python",
   "name": "python3"
  },
  "language_info": {
   "codemirror_mode": {
    "name": "ipython",
    "version": 3
   },
   "file_extension": ".py",
   "mimetype": "text/x-python",
   "name": "python",
   "nbconvert_exporter": "python",
   "pygments_lexer": "ipython3",
   "version": "3.8.3"
  }
 },
 "nbformat": 4,
 "nbformat_minor": 2
}
